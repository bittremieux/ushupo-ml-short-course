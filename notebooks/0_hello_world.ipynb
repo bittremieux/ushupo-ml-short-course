{
 "cells": [
  {
   "cell_type": "markdown",
   "id": "605a9a5a-ff32-4e44-8539-7e4bad9d08e5",
   "metadata": {},
   "source": [
    "# Hello World\n",
    "\n",
    "This is a test notebook for binder."
   ]
  },
  {
   "cell_type": "code",
   "execution_count": null,
   "id": "4383e9ec-285d-463e-881d-659ef516f8d4",
   "metadata": {},
   "outputs": [],
   "source": [
    "import numpy as np\n",
    "import pandas as pd\n",
    "import matplotlib.pyplot as plt\n",
    "import seaborn as sns\n",
    "\n",
    "from sklearn import datasets\n",
    "from sklearn.decomposition import PCA\n",
    "\n",
    "sns.set()\n",
    "\n",
    "iris = datasets.load_iris()\n",
    "label_dict = {k: v for k, v in enumerate(iris.target_names)}\n",
    "labels = pd.Series(iris.target).replace(label_dict)\n",
    "\n",
    "pca = PCA(n_components=2)\n",
    "comps = pca.fit(iris.data).transform(iris.data)\n",
    "\n",
    "plt.figure()\n",
    "sns.scatterplot(x=comps[:, 0], y=comps[:, 1], hue=labels)\n",
    "plt.xlabel(\"PC1\")\n",
    "plt.ylabel(\"PC2\")\n",
    "plt.tight_layout()\n",
    "plt.show()"
   ]
  }
 ],
 "metadata": {
  "kernelspec": {
   "display_name": "Python 3 (ipykernel)",
   "language": "python",
   "name": "python3"
  },
  "language_info": {
   "codemirror_mode": {
    "name": "ipython",
    "version": 3
   },
   "file_extension": ".py",
   "mimetype": "text/x-python",
   "name": "python",
   "nbconvert_exporter": "python",
   "pygments_lexer": "ipython3",
   "version": "3.10.8"
  }
 },
 "nbformat": 4,
 "nbformat_minor": 5
}
