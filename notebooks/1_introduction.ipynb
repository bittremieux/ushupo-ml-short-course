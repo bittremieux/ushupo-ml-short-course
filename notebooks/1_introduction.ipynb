{
 "cells": [
  {
   "cell_type": "markdown",
   "id": "ed2749ff-6808-4be6-a75b-09e61df3a24a",
   "metadata": {},
   "source": [
    "# Lab 1: Getting Started with Machine Learning\n",
    "\n",
    "## Labs for this short course\n",
    "Each session will be split between lectures and a hands-on lab session like this one. We aim for these lab sessions serve multiple purposes:\n",
    "- Provide a space to explore the concepts discussed in the lectures.\n",
    "- See and use tools that rely on the machine learning methods we discuss.\n",
    "- Give a friendly first glimpse into the programming needed to develop machine learning models.\n",
    "\n",
    "Some of our lab sessions (like this one) will use an environment called a [Jupyter notebook](https://jupyter.org/). Other sessions will be a guided walk-through the operation of specific mass spectrometry tools that use specific machine learning methods under the hood. Jupyter notebooks provide a way to marry text and code—a concept call *literate programming*—providing a rich interactive document for us to explore with. While you could install Jupyter on your computer, we are using a service called [Binder](https://mybinder.org/) to run these Jupyter notebooks on a borrowed computer in the cloud; thus, there are no installation requirements for the labs aside from a web browser.\n",
    "\n",
    "This lab will focus on familiarizing us with the Jupyter notebook interface, a short introduction to programming in Python, and exploring the \"bias-variance\" tradeoff.\n",
    "\n",
    "## Exercise 1: Meet your group!\n",
    "Everyone should have been assigned a random group for our lab sessions. Find the other 3–4 folks in your group and introduce yourself! This is an excellent time to help each other and learn together. Over the next 5 minutes, go around and introduce yourself with the following info and anything else you want to share:\n",
    "1. Your name (don't hesitate to gently correct mispronunciations!)\n",
    "2. Your preferred pronouns (he/him, she/her, them/they, ...)\n",
    "3. Where you are from, as specific as you want to be.\n",
    "4. Why are you interested in machine learning?\n",
    "\n",
    "Your group should be the first folks you look at to answer questions and discuss the excersises during the labs. However, if you do get stuck or have a remaining question, don't hesistate to ask for help! Use your post-it notes (we should have already talked about what the colors mean) to signal that your group needs help and one of the instructors will be over as soon as possible to assist.\n",
    "\n",
    "## Exercise 2: Introducing Jupyter notebooks\n",
    "We chose to use Jupyter notebook environments with Binder, because they provide a way for us to explore the machine learning method we discuss with little-to-no setup required. However, the notebook interface can be intimidating, particularly if you've never programmed before. If this describes how you're feeling, please don't worry; We've tried to design these labs to be approachable by anyone—with or without coding experience—once they understand the Jupyter notebook interface at a high-level.\n",
    "\n",
    "### The Jupyter Lab interface\n",
    "Jupyter notebooks allow us to switch between writing text (in a syntax called \"markdown\") and code using the concept of cells. The markdown cells are where we've written the prose for excersises. In fact, the text you're reading right now is contained in a markdown cell. Here are the different parts of a Jupyter notebook:\n",
    "\n",
    "![notebook](images/blank-notebook-ui.png)\n",
    "\n",
    "### Running code in Jupyter notebooks\n",
    "Code cells contain code that we can run. When we run or execute a code cell, the computer reads the code that is written in it and uses it as a set of instructions to do *something*—whatever, we've programmed it to do. Many of the exercises involve running code that we've already written and modifying it in specific ways to see what happens. Throughout the labs, you'll see two types of code: Python and shell commands (commands you would run from the command line or terminal).\n",
    "\n",
    "A code cell is indicated with a `[x]:` beside it, where `x` is blank if the code cell has never been run. After a code cell has been run `x` indicates the order in which that code cell was run, among all of the other code cells in the notebook. Some code cells will also output text or images when they are run. These outputs appear below the code cell that generated them and are updated each time the code cell is run. \n",
    "\n",
    "To run the example code cell below, click on the cell and press the \"Run\" button in the toolbar, or pressing ⌘Cmd + Enter (MacOS) or Ctrl + Enter (Windows). \n",
    "\n",
    "**Go ahead a run the cell below. What happened?**"
   ]
  },
  {
   "cell_type": "code",
   "execution_count": 1,
   "id": "f0893c99",
   "metadata": {
    "tags": []
   },
   "outputs": [
    {
     "name": "stdout",
     "output_type": "stream",
     "text": [
      "I just ran this cell!\n"
     ]
    }
   ],
   "source": [
    "print(\"I just ran this cell!\")"
   ]
  },
  {
   "cell_type": "markdown",
   "id": "cc36e355",
   "metadata": {},
   "source": [
    "Throughout these labs, we will modify parts of existing code cells to see what happens. Below is a code cell that will create a plot which we can modify. Note that parts following `#`s are comments and have no affect on the code itself. Most of our Jupyter notebooks will begin with an series of `import` statements, which allow us to load the functionality required for the session.\n",
    "\n",
    "For this session, we only need the following import.\n",
    "\n",
    "**Run the cell below with ⌘Cmd + Enter (MacOS) or Ctrl + Enter (Windows):**"
   ]
  },
  {
   "cell_type": "code",
   "execution_count": 2,
   "id": "ebc8c88f",
   "metadata": {
    "tags": []
   },
   "outputs": [],
   "source": [
    "import src"
   ]
  },
  {
   "cell_type": "markdown",
   "id": "36ffe896",
   "metadata": {},
   "source": [
    "With the functionality for our current session loaded, **try running the code below**. If your see a message that says `NameError`, please verify that you've run the code cell above.\n",
    "\n",
    "**Try experimenting with values for the parameter**. To change the values, type any number you want in place of the `1`. You can also try non-numbers, but you'll receive an error."
   ]
  },
  {
   "cell_type": "code",
   "execution_count": 3,
   "id": "397f710f-cbc0-42d6-a44f-96201a8b2931",
   "metadata": {
    "scrolled": true,
    "tags": []
   },
   "outputs": [
    {
     "data": {
      "image/png": "[encoded data removed]",
      "text/plain": [
       "<Figure size 640x480 with 1 Axes>"
      ]
     },
     "metadata": {},
     "output_type": "display_data"
    }
   ],
   "source": [
    "# Change the value of parameter and see what happens:\n",
    "parameter = 1\n",
    "\n",
    "# After you change the above parameter, run the code.\n",
    "# The plot generated by the function below should change!\n",
    "src.session_1.make_first_plot(parameter)"
   ]
  },
  {
   "cell_type": "markdown",
   "id": "c9bc1998",
   "metadata": {},
   "source": [
    "Which function do you think $f(X)$ describes? *The answer is at the bottom of this notebook.*\n",
    "\n",
    "### Running command line programs in Jupyter notebooks\n",
    "Finally, we can also execute command line programs from within a Jupyter notebook code cell. In later labs we'll explore command line programs like Percolator in detail. There are multiple ways to run command line programs in a Jupyter notebook. The easiest is to prefix your code with an exclamation point `!`.\n",
    "\n",
    "**Run the following code cell to print the help for Percolator.** Please note that you don't really need to pay attention to what the help message says, just that it was printed from the Percolator command line program."
   ]
  },
  {
   "cell_type": "code",
   "execution_count": 4,
   "id": "198fea8c",
   "metadata": {
    "scrolled": true
   },
   "outputs": [
    {
     "name": "stdout",
     "output_type": "stream",
     "text": [
      "Percolator version 3.05.0, Build Date May 18 2020 08:43:48\n",
      "Copyright (c) 2006-9 University of Washington. All rights reserved.\n",
      "Written by Lukas Käll (lukall@u.washington.edu) in the\n",
      "Department of Genome Sciences at the University of Washington.\n",
      "\n",
      "Usage:\n",
      "   percolator [-X pout.xml] [other options] pin.tsv\n",
      "pin.tsv is the tab delimited output file generated by e.g. sqt2pin;\n",
      "  The tab delimited fields should be:\n",
      "    id <tab> label <tab> scannr <tab> feature1 <tab> ... <tab>\n",
      "    featureN <tab> peptide <tab> proteinId1 <tab> .. <tab> proteinIdM\n",
      "  Labels are interpreted as 1 -- positive set and test set, -1 -- negative set.\n",
      "  When the --doc option the first and second feature should contain\n",
      "  the retention time and difference between observed and calculated mass;\n",
      "pout.xml is where the output will be written (ensure to have read\n",
      "and write access on the file).\n",
      "\n",
      "Options:\n",
      " -h\n",
      " --help                                       Display this message\n",
      " -X <filename>\n",
      " --xmloutput <filename>                       Path to xml-output (pout) file.\n",
      " -\n",
      " --stdinput-tab                               Read percolator tab-input format \n",
      "                                              (pin-tab) from standard input\n",
      " -e\n",
      " --stdinput-xml                               Read percolator xml-input format \n",
      "                                              (pin-xml) from standard input\n",
      " -Z\n",
      " --decoy-xml-output                           Include decoys (PSMs, peptides \n",
      "                                              and/or proteins) in the \n",
      "                                              xml-output. Only available if -X \n",
      "                                              is set.\n",
      " -p <value>\n",
      " --Cpos <value>                               Cpos, penalty for mistakes made on \n",
      "                                              positive examples. Set by cross \n",
      "                                              validation if not specified.\n",
      " -n <value>\n",
      " --Cneg <value>                               Cneg, penalty for mistakes made on \n",
      "                                              negative examples. Set by cross \n",
      "                                              validation if not specified or if \n",
      "                                              -p is not specified.\n",
      " -t <value>\n",
      " --testFDR <value>                            False discovery rate threshold for \n",
      "                                              evaluating best cross validation \n",
      "                                              result and reported end result. \n",
      "                                              Default = 0.01.\n",
      " -F <value>\n",
      " --trainFDR <value>                           False discovery rate threshold to \n",
      "                                              define positive examples in \n",
      "                                              training. Set to testFDR if 0. \n",
      "                                              Default = 0.01.\n",
      " -i <number>\n",
      " --maxiter <number>                           Maximal number of iterations. \n",
      "                                              Default = 10.\n",
      " -N <number>\n",
      " --subset-max-train <number>                  Only train an SVM on a subset of \n",
      "                                              <x> PSMs, and use the resulting \n",
      "                                              score vector to evaluate the other \n",
      "                                              PSMs. Recommended when analyzing \n",
      "                                              huge numbers (>1 million) of PSMs. \n",
      "                                              When set to 0, all PSMs are used \n",
      "                                              for training as normal. Default = \n",
      "                                              0.\n",
      " -x\n",
      " --quick-validation                           Quicker execution by reduced \n",
      "                                              internal cross-validation.\n",
      " -J <filename>\n",
      " --tab-out <filename>                         Output computed features to given \n",
      "                                              file in pin-tab format.\n",
      " -j <filename>\n",
      " --tab-in <filename>                          [set by default] Input file given \n",
      "                                              in pin-tab format. This is the \n",
      "                                              default setting, flag only present \n",
      "                                              for backwards compatibility.\n",
      " -k <filename>\n",
      " --xml-in <filename>                          Input file given in deprecated \n",
      "                                              pin-xml format generated by e.g. \n",
      "                                              sqt2pin with the -k option\n",
      " -w <filename>\n",
      " --weights <filename>                         Output final weights to the given \n",
      "                                              file\n",
      " -W <filename>\n",
      " --init-weights <filename>                    Read the unnormalized initial \n",
      "                                              weights from the third line of the \n",
      "                                              given file. This can be the output \n",
      "                                              of the --weights option from a \n",
      "                                              previous Percolator analysis. Note \n",
      "                                              that the weights must be in the \n",
      "                                              same order as the features in the \n",
      "                                              PSM input file(s).\n",
      "\n",
      " --static                                     Use the provided initial weights \n",
      "                                              as a static model. If used, the \n",
      "                                              --init-weights option must be \n",
      "                                              specified.\n",
      " -V <[-]?featureName>\n",
      " --default-direction <[-]?featureName>        Use given feature name as initial \n",
      "                                              search direction, can be negated \n",
      "                                              to indicate that a lower value is \n",
      "                                              better.\n",
      " -v <level>\n",
      " --verbose <level>                            Set verbosity of output: 0=no \n",
      "                                              processing info, 5=all. Default = \n",
      "                                              2\n",
      " -o\n",
      " --no-terminate                               Do not stop execution when \n",
      "                                              encountering questionable SVM \n",
      "                                              inputs or results.\n",
      " -u\n",
      " --unitnorm                                   Use unit normalization [0-1] \n",
      "                                              instead of standard deviation \n",
      "                                              normalization\n",
      " -R\n",
      " --test-each-iteration                        Measure performance on test set \n",
      "                                              each iteration\n",
      " -O\n",
      " --override                                   Override error check and do not \n",
      "                                              fall back on default score vector \n",
      "                                              in case of suspect score vector \n",
      "                                              from SVM.\n",
      " -S <value>\n",
      " --seed <value>                               Set seed of the random number \n",
      "                                              generator. Default = 1\n",
      " -D\n",
      " --doc                                        Include description of correct \n",
      "                                              features, i.e. features describing \n",
      "                                              the difference between the \n",
      "                                              observed and predicted isoelectric \n",
      "                                              point, retention time and \n",
      "                                              precursor mass.\n",
      " -K\n",
      " --klammer                                    Retention time features are \n",
      "                                              calculated as in Klammer et al. \n",
      "                                              Only available if -D is set.\n",
      " -r <filename>\n",
      " --results-peptides <filename>                Output tab delimited results of \n",
      "                                              peptides to a file instead of \n",
      "                                              stdout (will be ignored if used \n",
      "                                              with -U option)\n",
      " -B <filename>\n",
      " --decoy-results-peptides <filename>          Output tab delimited results for \n",
      "                                              decoy peptides into a file (will \n",
      "                                              be ignored if used with -U option)\n",
      " -m <filename>\n",
      " --results-psms <filename>                    Output tab delimited results of \n",
      "                                              PSMs to a file instead of stdout\n",
      " -M <filename>\n",
      " --decoy-results-psms <filename>              Output tab delimited results for \n",
      "                                              decoy PSMs into a file\n",
      " -U\n",
      " --only-psms                                  Report results only at the PSM \n",
      "                                              level. This flag causes Percolator \n",
      "                                              to skip the step that selects the \n",
      "                                              top-scoring PSM per peptide; \n",
      "                                              hence, peptide-level results are \n",
      "                                              left out and only PSM-level \n",
      "                                              results are reported.\n",
      " -y\n",
      " --post-processing-mix-max                    Use the mix-max method to assign \n",
      "                                              q-values and PEPs. Note that this \n",
      "                                              option only has an effect if the \n",
      "                                              input PSMs are from separate \n",
      "                                              target and decoy searches. This is \n",
      "                                              the default setting.\n",
      " -Y\n",
      " --post-processing-tdc                        Replace the mix-max method by \n",
      "                                              target-decoy competition for \n",
      "                                              assigning q-values and PEPs. If \n",
      "                                              the input PSMs are from separate \n",
      "                                              target and decoy searches, \n",
      "                                              Percolator's SVM scores will be \n",
      "                                              used to eliminate the lower \n",
      "                                              scoring target or decoy PSM(s) of \n",
      "                                              each scan+expMass combination. If \n",
      "                                              the input PSMs are detected to be \n",
      "                                              coming from a concatenated search, \n",
      "                                              this option will be turned on \n",
      "                                              automatically, as this is \n",
      "                                              incompatible with the mix-max \n",
      "                                              method. In case this detection \n",
      "                                              fails, turn this option on \n",
      "                                              explicitly.\n",
      " -I <value>\n",
      " --search-input <value>                       Specify the type of target-decoy \n",
      "                                              search: \"auto\" (Percolator \n",
      "                                              attempts to detect the search type \n",
      "                                              automatically), \"concatenated\" \n",
      "                                              (single search on concatenated \n",
      "                                              target-decoy protein db) or \n",
      "                                              \"separate\" (two searches, one \n",
      "                                              against target and one against \n",
      "                                              decoy protein db). Default = \n",
      "                                              \"auto\".\n",
      " -s\n",
      " --no-schema-validation                       Skip validation of input file \n",
      "                                              against xml schema.\n",
      " -f <value>\n",
      " --picked-protein <value>                     Use the picked protein-level FDR \n",
      "                                              to infer protein probabilities. \n",
      "                                              Provide the fasta file as the \n",
      "                                              argument to this flag, which will \n",
      "                                              be used for protein grouping based \n",
      "                                              on an in-silico digest. If no \n",
      "                                              fasta file is available or protein \n",
      "                                              grouping is not desired, set this \n",
      "                                              flag to \"auto\" to skip protein \n",
      "                                              grouping.\n",
      " -A\n",
      " --fido-protein                               Use the Fido algorithm to infer \n",
      "                                              protein probabilities\n",
      " -l <filename>\n",
      " --results-proteins <filename>                Output tab delimited results of \n",
      "                                              proteins to a file instead of \n",
      "                                              stdout (Only valid if option -A or \n",
      "                                              -f is active)\n",
      " -L <filename>\n",
      " --decoy-results-proteins <filename>          Output tab delimited results for \n",
      "                                              decoy proteins into a file (Only \n",
      "                                              valid if option -A or -f is \n",
      "                                              active)\n",
      " -P <value>\n",
      " --protein-decoy-pattern <value>              Define the text pattern to \n",
      "                                              identify decoy proteins in the \n",
      "                                              database for the picked-protein \n",
      "                                              algorithm. This will have no \n",
      "                                              effect on the target/decoy labels \n",
      "                                              specified in the input file. \n",
      "                                              Default = \"random_\".\n",
      " -z\n",
      " --protein-enzyme                             Type of enzyme used for in silico \n",
      "                                              protein digestion for picked \n",
      "                                              protein-level FDR estimation. One \n",
      "                                              of \n",
      "                                              \"no_enzyme\",\"elastase\",\"pepsin\",\"p\n",
      "                                              roteinasek\",\"thermolysin\",\"trypsin\n",
      "                                              p\",\"chymotrypsin\",\"lys-n\",\"lys-c\",\n",
      "                                              \"arg-c\",\"asp-n\",\"glu-c\",\"trypsin\". \n",
      "                                              Default=\"trypsin\".\n",
      " -c\n",
      " --protein-report-fragments                   By default, if the peptides \n",
      "                                              associated with protein A are a \n",
      "                                              proper subset of the peptides \n",
      "                                              associated with protein B, then \n",
      "                                              protein A is eliminated and all \n",
      "                                              the peptides are considered as \n",
      "                                              evidence for protein B. Note that \n",
      "                                              this filtering is done based on \n",
      "                                              the complete set of peptides in \n",
      "                                              the database, not based on the \n",
      "                                              identified peptides in the search \n",
      "                                              results. Alternatively, if this \n",
      "                                              option is set and if all of the \n",
      "                                              identified peptides associated \n",
      "                                              with protein B are also associated \n",
      "                                              with protein A, then Percolator \n",
      "                                              will report a comma-separated list \n",
      "                                              of protein IDs, where the \n",
      "                                              full-length protein B is first in \n",
      "                                              the list and the fragment protein \n",
      "                                              A is listed second. Commas inside \n",
      "                                              protein IDs will be replaced by \n",
      "                                              semicolons. Not available for \n",
      "                                              Fido.\n",
      " -g\n",
      " --protein-report-duplicates                  If this option is set and multiple \n",
      "                                              database proteins contain exactly \n",
      "                                              the same set of peptides, then the \n",
      "                                              IDs of these duplicated proteins \n",
      "                                              will be reported as a \n",
      "                                              comma-separated list, instead of \n",
      "                                              the default behavior of randomly \n",
      "                                              discarding all but one of the \n",
      "                                              proteins. Commas inside protein \n",
      "                                              IDs will be replaced by \n",
      "                                              semicolons. Not available for \n",
      "                                              Fido.\n",
      " -a <value>\n",
      " --fido-alpha <value>                         Set Fido's probability with which \n",
      "                                              a present protein emits an \n",
      "                                              associated peptide.        Set by \n",
      "                                              grid search if not specified.\n",
      " -b <value>\n",
      " --fido-beta <value>                          Set Fido's probability of creation \n",
      "                                              of a peptide from noise. Set by \n",
      "                                              grid search if not specified.\n",
      " -G <value>\n",
      " --fido-gamma <value>                         Set Fido's prior probability that \n",
      "                                              a protein is present in the \n",
      "                                              sample. Set by grid search if not \n",
      "                                              specified.\n",
      " -q\n",
      " --fido-empirical-protein-q                   Output empirical p-values and \n",
      "                                              q-values for Fido using \n",
      "                                              target-decoy analysis to XML \n",
      "                                              output (only valid if -X flag is \n",
      "                                              present).\n",
      " -d <value>\n",
      " --fido-gridsearch-depth <value>              Setting the gridsearch-depth to 0 \n",
      "                                              (fastest), 1 or 2 (slowest) \n",
      "                                              controls how much computational \n",
      "                                              time is required for the \n",
      "                                              estimation of alpha, beta and \n",
      "                                              gamma parameters for Fido. Default \n",
      "                                              = 0.\n",
      " -T <value>\n",
      " --fido-fast-gridsearch <value>               Apply the specified threshold to \n",
      "                                              PSM, peptide and protein \n",
      "                                              probabilities to obtain a faster \n",
      "                                              estimate of the alpha, beta and \n",
      "                                              gamma parameters. Default = 0; \n",
      "                                              Recommended when set = 0.2.\n",
      " -C\n",
      " --fido-no-split-large-components             Do not approximate the posterior \n",
      "                                              distribution by allowing large \n",
      "                                              graph components to be split into \n",
      "                                              subgraphs. The splitting is done \n",
      "                                              by duplicating peptides with low \n",
      "                                              probabilities. Splitting continues \n",
      "                                              until the number of possible \n",
      "                                              configurations of each subgraph is \n",
      "                                              below 2^18.\n",
      " -E <value>\n",
      " --fido-protein-truncation-threshold <value>  To speed up inference, proteins \n",
      "                                              for which none of the associated \n",
      "                                              peptides has a probability \n",
      "                                              exceeding the specified threshold \n",
      "                                              will be assigned probability = 0. \n",
      "                                              Default = 0.01.\n",
      " -H <value>\n",
      " --fido-gridsearch-mse-threshold <value>      Q-value threshold that will be \n",
      "                                              used in the computation of the MSE \n",
      "                                              and ROC AUC score in the grid \n",
      "                                              search. Recommended 0.05 for \n",
      "                                              normal size datasets and 0.1 for \n",
      "                                              large datasets. Default = 0.1\n",
      "[EXPERIMENTAL FEATURE]\n",
      " --num-threads <value>                        Number of total parallel threads \n",
      "                                              for SVM training during cross \n",
      "                                              validation. Default (one thread \n",
      "                                              per CV fold) = 3.\n",
      "[EXPERIMENTAL FEATURE]\n",
      " --nested-xval-bins <value>                   Number of nested cross validation \n",
      "                                              bins within each cross validation \n",
      "                                              bin. This should reduce \n",
      "                                              overfitting of the \n",
      "                                              hyperparameters. Default = 1.\n",
      "[EXPERIMENTAL FEATURE]\n",
      " --spectral-counting-fdr <value>              Activates spectral counting on \n",
      "                                              protein level (either \n",
      "                                              --fido-protein or --picked-protein \n",
      "                                              has to be set) at the specified \n",
      "                                              PSM q-value threshold. Adds two \n",
      "                                              columns, \"spec_count_unique\" and \n",
      "                                              \"spec_count_all\", to the protein \n",
      "                                              tab separated output, containing \n",
      "                                              the spectral count for the \n",
      "                                              peptides unique to the protein and \n",
      "                                              the spectral count including \n",
      "                                              shared peptides respectively.\n",
      "[EXPERIMENTAL FEATURE]\n",
      " --train-best-positive                        Enforce that, for each spectrum, \n",
      "                                              at most one PSM is included in the \n",
      "                                              positive set during each training \n",
      "                                              iteration. If the user only \n",
      "                                              provides one PSM per spectrum, \n",
      "                                              this filter will have no effect.\n",
      "[EXPERIMENTAL FEATURE]\n",
      " --train-fdr-initial <value>                  Set the FDR threshold for the \n",
      "                                              first iteration. This is useful in \n",
      "                                              cases where the original features \n",
      "                                              do not display a good separation \n",
      "                                              between targets and decoys. In \n",
      "                                              subsequent iterations, the normal \n",
      "                                              --trainFDR will be used.\n",
      "[EXPERIMENTAL FEATURE]\n",
      " --parameter-file <filename>                  Read flags from a parameter file. \n",
      "                                              If flags are specified on the \n",
      "                                              command line as well, these will \n",
      "                                              override the ones in the parameter \n",
      "                                              file.\n",
      "\n",
      "\n"
     ]
    }
   ],
   "source": [
    "!percolator --help"
   ]
  },
  {
   "cell_type": "markdown",
   "id": "3846de02",
   "metadata": {},
   "source": [
    "## Exercise 3: A brief introduction to Python\n",
    "\n",
    "Python is a general purpose programming language that is very popular for machine learning and data science. We have no expectation that you've programmed in any language before, but as you saw in the previous exerciese, we will often be working together on small modifications to Python code in these labs. We chose this format, so that everyone would be exposed to Python code and that these labs could serve as a jumping-off point to pursue your interests after the course. However, we'll need to introduce a little bit of how Python works to maximize your experience.\n",
    "\n",
    "### Variables are assigned with the `=` symbol.\n",
    "In Python we assign *values* to *variables* as a way to make the computer remember something that we choose. In Python and many programming languages, *values* are assigned to *variables* using the `=` symbol. The values we can assign take many forms, which we call *data types*. We will mostly be working with numeric data types like `1`,`10`, `100382`, `2.35`, `3e4`.\n",
    "\n",
    "This code below assigns the value `3.14159` to the variable `pi`, then uses the `print()` function to show us the value we've assigned:"
   ]
  },
  {
   "cell_type": "code",
   "execution_count": 5,
   "id": "bfbcf739",
   "metadata": {},
   "outputs": [
    {
     "name": "stdout",
     "output_type": "stream",
     "text": [
      "3.14159\n"
     ]
    }
   ],
   "source": [
    "pi = 3.14159\n",
    "print(pi)"
   ]
  },
  {
   "cell_type": "markdown",
   "id": "906257bb",
   "metadata": {},
   "source": [
    "There are also non-numeric data types that we'll use less frequently in these labs. One example of these strings, which are collections of characters enclosed in quotation marks (single quotes `'` or double quotes `\"` will work). \n",
    "\n",
    "For example, we can assign the string `\"awesome\"` to the variable `mass_spec`:"
   ]
  },
  {
   "cell_type": "code",
   "execution_count": 6,
   "id": "558d14e5",
   "metadata": {},
   "outputs": [
    {
     "name": "stdout",
     "output_type": "stream",
     "text": [
      "awesome\n"
     ]
    }
   ],
   "source": [
    "mass_spec = \"awesome\"\n",
    "print(mass_spec)"
   ]
  },
  {
   "cell_type": "markdown",
   "id": "d0f57839",
   "metadata": {},
   "source": [
    "Additionally we can change the value of a variable after it's first assigned. In this example we assign the variable `pi` the value of `3.14159`, then we reassign the variable `pi` the value of `\"whoops\"`:"
   ]
  },
  {
   "cell_type": "code",
   "execution_count": 7,
   "id": "b3dd8d8e",
   "metadata": {},
   "outputs": [
    {
     "name": "stdout",
     "output_type": "stream",
     "text": [
      "First pi was: 3.14159\n",
      "Now pi is:    whoops\n"
     ]
    }
   ],
   "source": [
    "pi = 3.14159\n",
    "print(\"First pi was:\", pi)\n",
    "\n",
    "pi = \"whoops\"\n",
    "print(\"Now pi is:   \", pi)"
   ]
  },
  {
   "cell_type": "markdown",
   "id": "d95c31db",
   "metadata": {},
   "source": [
    "**Experiment with assigning your own variables in the empty code cell below.** "
   ]
  },
  {
   "cell_type": "code",
   "execution_count": null,
   "id": "5e905202",
   "metadata": {},
   "outputs": [],
   "source": []
  },
  {
   "cell_type": "markdown",
   "id": "03a05cf8",
   "metadata": {},
   "source": [
    "**Before you run the next code cell, what do you predict will happen?**"
   ]
  },
  {
   "cell_type": "code",
   "execution_count": 8,
   "id": "40336b61",
   "metadata": {},
   "outputs": [
    {
     "name": "stdout",
     "output_type": "stream",
     "text": [
      "4.14159\n"
     ]
    }
   ],
   "source": [
    "pi = 3.14159\n",
    "cherry = pi\n",
    "cherry = cherry + 1\n",
    "print(cherry)"
   ]
  },
  {
   "cell_type": "markdown",
   "id": "55ddb668",
   "metadata": {},
   "source": [
    "### Functions use inputs to produce outputs\n",
    "\n",
    "Just like the functions we're trying to estimate using machine learning, functions in Python can take inputs and turn them into outputs. We typically call the inputs *arguments*. In some exercises you'll need to change the values of arguments to explore how a function behaves. One example of a function we've used already is `print()` which prints the values of the variables you give it.\n",
    "\n",
    "We can also define our own custom function using the `def` keyword:"
   ]
  },
  {
   "cell_type": "code",
   "execution_count": 9,
   "id": "9710d161",
   "metadata": {},
   "outputs": [],
   "source": [
    "#  The function \n",
    "#      name        arguments\n",
    "#       |              |\n",
    "#       |       +------+--------+\n",
    "#       V       V      V        V\n",
    "def my_function(X, multiplier, power):\n",
    "    \"\"\"This is a docstring.\n",
    "    \n",
    "    It contains information about the function.\n",
    "    \"\"\"\n",
    "    # We use arguments like as variables in the function.\n",
    "    Y = multiplier * X ** power  # ** indicates an exponent.\n",
    "    \n",
    "    # The return keyword specifies the output\n",
    "    return Y"
   ]
  },
  {
   "cell_type": "markdown",
   "id": "8d1a7e64",
   "metadata": {},
   "source": [
    "Once its defined, we can then use the function:"
   ]
  },
  {
   "cell_type": "code",
   "execution_count": 10,
   "id": "e933463d",
   "metadata": {},
   "outputs": [
    {
     "name": "stdout",
     "output_type": "stream",
     "text": [
      "6.324555320336759\n"
     ]
    }
   ],
   "source": [
    "output = my_function(10, 2, 0.5) # 2(10^0.5)\n",
    "print(output)"
   ]
  },
  {
   "cell_type": "markdown",
   "id": "963c44fb",
   "metadata": {},
   "source": [
    "**Write a function that calculates the mean of three numbers.**"
   ]
  },
  {
   "cell_type": "code",
   "execution_count": null,
   "id": "c4b70c79",
   "metadata": {},
   "outputs": [],
   "source": []
  },
  {
   "cell_type": "markdown",
   "id": "83f7c5d4",
   "metadata": {},
   "source": [
    "## Exploring the bias-variance tradeoff"
   ]
  },
  {
   "cell_type": "markdown",
   "id": "071717a5",
   "metadata": {},
   "source": [
    "We're now going to revisit our peptide retention time data and use it to get a better understanding of the bias-variance trade-off. The code below fits a model with one hyperparameter `k` that controls its flexibility to our peptide retention time dataset from [Zolg et al](https://doi.org/10.1002/pmic.201700263). As a group, explore what happens when you change `k` and discuss your observations. \n",
    "\n",
    "**Explore values of k between 1 and 10**\n",
    "- What changes do you see in the model fit (the line in the first two panels) when you change k?\n",
    "- What value of k would you choose for a final model based on these results?\n",
    "- Do low values of k result in high bias or high variance?\n",
    "- Do high values of k result in high bias or high variance?"
   ]
  },
  {
   "cell_type": "code",
   "execution_count": 22,
   "id": "48ffeb3c",
   "metadata": {},
   "outputs": [
    {
     "data": {
      "image/png": "[encoded data removed]",
      "text/plain": [
       "<Figure size 1200x400 with 3 Axes>"
      ]
     },
     "metadata": {},
     "output_type": "display_data"
    }
   ],
   "source": [
    "# Change the value of k by replace None with an between 0 and 29:\n",
    "k = 13\n",
    "\n",
    "# This function fits a model, then plots the results.\n",
    "src.session_1.fit_model_to_ret_times(k)"
   ]
  },
  {
   "cell_type": "markdown",
   "id": "5d44678f",
   "metadata": {},
   "source": [
    "## Answers\n",
    "*What the function do you think $f(X)$ describes?* If we call our parameter $p$, then $f(X) = X\\sin(pX)$"
   ]
  }
 ],
 "metadata": {
  "kernelspec": {
   "display_name": "Python 3 (ipykernel)",
   "language": "python",
   "name": "python3"
  },
  "language_info": {
   "codemirror_mode": {
    "name": "ipython",
    "version": 3
   },
   "file_extension": ".py",
   "mimetype": "text/x-python",
   "name": "python",
   "nbconvert_exporter": "python",
   "pygments_lexer": "ipython3",
   "version": "3.10.11"
  }
 },
 "nbformat": 4,
 "nbformat_minor": 5
}
