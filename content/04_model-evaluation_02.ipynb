{
 "cells": [
  {
   "cell_type": "code",
   "execution_count": null,
   "id": "75a5130b",
   "metadata": {},
   "outputs": [],
   "source": [
    "import matplotlib.colors as mcolors\n",
    "import matplotlib.pyplot as plt\n",
    "import matplotlib.ticker as mticker\n",
    "import numpy as np\n",
    "import pandas as pd\n",
    "import seaborn as sns\n",
    "from scipy.cluster.hierarchy import dendrogram\n",
    "from sklearn.cluster import AgglomerativeClustering, KMeans\n",
    "from sklearn.datasets import make_classification\n",
    "from sklearn.inspection import DecisionBoundaryDisplay\n",
    "from sklearn.linear_model import LogisticRegression"
   ]
  },
  {
   "cell_type": "code",
   "execution_count": null,
   "id": "1efa9ada",
   "metadata": {},
   "outputs": [],
   "source": [
    "plt.style.use([\"seaborn-white\", \"seaborn-paper\"])\n",
    "sns.set_palette([\"#57b6a2\", \"#f0b67f\"])\n",
    "sns.set_context(\"talk\")\n",
    "half_size = (5.4, 4.04)"
   ]
  },
  {
   "cell_type": "code",
   "execution_count": null,
   "id": "43b9a0c5",
   "metadata": {},
   "outputs": [],
   "source": [
    "rng = np.random.default_rng(42)\n",
    "\n",
    "n_examples = 20\n",
    "df = pd.DataFrame({\n",
    "    \"label\": [True] * n_examples + [False] * n_examples,\n",
    "    \"disease\": [\"Case\"] * n_examples + [\"Control\"] * n_examples,\n",
    "    \"score_1\": np.concatenate(\n",
    "        [rng.normal(3.5, 1, size=n_examples), rng.normal(2, 1, size=n_examples)]\n",
    "    ),\n",
    "    \"score_2\": np.concatenate(\n",
    "        [rng.normal(4, 1, size=n_examples), rng.normal(2, 1, size=n_examples)]\n",
    "    )\n",
    "})"
   ]
  },
  {
   "cell_type": "code",
   "execution_count": null,
   "id": "f26f2da6",
   "metadata": {},
   "outputs": [],
   "source": [
    "fig, ax = plt.subplots(figsize=(5, 4))\n",
    "\n",
    "sns.swarmplot(x=df[\"score_1\"], y=df[\"disease\"], size=9, ax=ax)\n",
    "\n",
    "from sklearn.svm import LinearSVC\n",
    "X = df[\"score_1\"].values.reshape(-1, 1)\n",
    "X = np.hstack((X, np.zeros_like(X)))\n",
    "y = df[\"label\"].values.astype(np.uint8)\n",
    "clf = LinearSVC(random_state=42)\n",
    "clf.fit(X, y)\n",
    "\n",
    "x_min, x_max = X[:, 0].min() - .1, X[:, 0].max() + .1\n",
    "y_min, y_max = -1, 2\n",
    "h = .01\n",
    "xx, yy = np.meshgrid(np.arange(x_min, x_max, h),\n",
    "                     np.arange(y_min, y_max, h))\n",
    "Z = clf.decision_function(np.c_[xx.ravel(), yy.ravel()])\n",
    "\n",
    "# Put the result into a color plot.\n",
    "Z = Z.reshape(xx.shape)\n",
    "ax.contourf(xx, yy, Z, alpha=0.5)\n",
    "\n",
    "ax.set_xlabel(\"Protein Abundance\")\n",
    "ax.set_ylabel(\"\")\n",
    "\n",
    "plt.tight_layout(pad=0.01)\n",
    "\n",
    "plt.savefig(\"decision_threshold.png\", dpi=300, bbox_inches=\"tight\")\n",
    "plt.show()\n",
    "plt.close()"
   ]
  }
 ],
 "metadata": {
  "kernelspec": {
   "display_name": "Python 3 (ipykernel)",
   "language": "python",
   "name": "python3"
  },
  "language_info": {
   "codemirror_mode": {
    "name": "ipython",
    "version": 3
   },
   "file_extension": ".py",
   "mimetype": "text/x-python",
   "name": "python",
   "nbconvert_exporter": "python",
   "pygments_lexer": "ipython3",
   "version": "3.8.13"
  }
 },
 "nbformat": 4,
 "nbformat_minor": 5
}
