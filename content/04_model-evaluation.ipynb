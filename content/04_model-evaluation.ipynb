{
 "cells": [
  {
   "cell_type": "markdown",
   "id": "alien-sullivan",
   "metadata": {},
   "source": [
    "# ROC and PR curve examples\n",
    "\n",
    "## Setup"
   ]
  },
  {
   "cell_type": "code",
   "execution_count": null,
   "id": "willing-weight",
   "metadata": {},
   "outputs": [],
   "source": [
    "import sys\n",
    "from pathlib import Path\n",
    "\n",
    "import numpy as np\n",
    "import pandas as pd\n",
    "import matplotlib.pyplot as plt\n",
    "import seaborn as sns\n",
    "from sklearn import metrics\n",
    "\n",
    "sys.path.append(\"..\")\n",
    "import src\n",
    "\n",
    "primary, accent = src.theme.set()\n",
    "pal = sns.color_palette(\"wfondrie\")\n",
    "\n",
    "half_size = (4.5, 4)\n",
    "\n",
    "def save(fname):\n",
    "    \"\"\"Save the figures\"\"\"\n",
    "    figures = Path(\"figures\")\n",
    "    figures.mkdir(exist_ok=True)\n",
    "    if not fname.startswith(\"04_\"):\n",
    "        fname = \"04_\" + fname\n",
    "        \n",
    "    if not fname.endswith(\".png\"):\n",
    "        fname += \".png\"\n",
    "    \n",
    "    plt.tight_layout(pad=0.2)\n",
    "    plt.savefig(figures / fname, dpi=300)"
   ]
  },
  {
   "cell_type": "markdown",
   "id": "pursuant-nomination",
   "metadata": {},
   "source": [
    "## Create the examples we'll be using:"
   ]
  },
  {
   "cell_type": "code",
   "execution_count": null,
   "id": "treated-facility",
   "metadata": {},
   "outputs": [],
   "source": [
    "# Set the random seed for reproducibility:\n",
    "rng = np.random.default_rng(42)\n",
    "\n",
    "n_examples = 20\n",
    "df = pd.DataFrame({\n",
    "    \"label\": [True]*n_examples + [False]*n_examples,\n",
    "    \"disease\": [\"Case\"]*n_examples + [\"Control\"]*n_examples,\n",
    "    \"score_1\": np.concatenate(\n",
    "        [rng.normal(3.5, 1, size=n_examples), rng.normal(2, 1, size=n_examples)]\n",
    "    ),\n",
    "    \"score_2\": np.concatenate(\n",
    "        [rng.normal(4, 1, size=n_examples), rng.normal(2, 1, size=n_examples)]\n",
    "    )\n",
    "})\n",
    "\n",
    "fpr_1, tpr_1, _ = metrics.roc_curve(df[\"label\"], df[\"score_1\"])\n",
    "prc_1, rec_1, _ = metrics.precision_recall_curve(df[\"label\"], df[\"score_1\"])\n",
    "fpr_2, tpr_2, _ = metrics.roc_curve(df[\"label\"], df[\"score_2\"])\n",
    "prc_2, rec_2, _ = metrics.precision_recall_curve(df[\"label\"], df[\"score_2\"])\n",
    "\n",
    "print(\"score_1 ROC AUC:\", metrics.roc_auc_score(df[\"label\"], df[\"score_1\"]))\n",
    "print(\"score_2 ROC AUC:\", metrics.roc_auc_score(df[\"label\"], df[\"score_2\"]))\n",
    "print(\"score_1 AP:\", metrics.average_precision_score(df[\"label\"], df[\"score_1\"]))\n",
    "print(\"score_2 AP:\", metrics.average_precision_score(df[\"label\"], df[\"score_2\"]))"
   ]
  },
  {
   "cell_type": "markdown",
   "id": "choice-magnet",
   "metadata": {},
   "source": [
    "Make a plot describing the data"
   ]
  },
  {
   "cell_type": "code",
   "execution_count": null,
   "id": "hazardous-flavor",
   "metadata": {},
   "outputs": [],
   "source": [
    "fig, ax = plt.subplots(figsize=half_size)\n",
    "sns.swarmplot(x=df[\"score_1\"], y=df[\"disease\"], size=9, ax=ax)\n",
    "ax.set_xlabel(\"Protein Abundance\")\n",
    "ax.set_ylabel(\"\")\n",
    "save(\"swarm\")"
   ]
  },
  {
   "cell_type": "markdown",
   "id": "moderate-carroll",
   "metadata": {},
   "source": [
    "## Plot ROC curves\n",
    "\n",
    "First we'll create a plotting function to create well formatted axes:"
   ]
  },
  {
   "cell_type": "code",
   "execution_count": null,
   "id": "happy-nightlife",
   "metadata": {},
   "outputs": [],
   "source": [
    "def roc_axis(ax=None):\n",
    "    \"\"\"Create a matplotlib axis that is labeled and scaled for ROC curves\"\"\"\n",
    "    if ax is None:\n",
    "        ax = plt.gca()\n",
    "        \n",
    "    ax.plot([0, 1], [0, 1], color=primary, linestyle=\"dashed\", zorder=0)\n",
    "    ax.set_aspect('equal', 'box')\n",
    "    ax.set_xlabel(\"1 - Specificity (FPR)\")\n",
    "    ax.set_ylabel(\"Sensitivity (TPR)\")\n",
    "    return ax\n",
    "\n",
    "def pr_axis(pos_frac, ax=None):\n",
    "    \"\"\"Create a matplotlib axis that is labeled and scaled for ROC curves\"\"\"\n",
    "    if ax is None:\n",
    "        ax = plt.gca()\n",
    "    \n",
    "    ax.set_xlim(-0.1, 1.1)\n",
    "    ax.set_ylim(-0.1, 1.1)\n",
    "    ax.axhline(pos_frac, color=primary, linestyle=\"dashed\", zorder=1)\n",
    "    ax.set_aspect('equal', 'box')\n",
    "    ax.set_xlabel(\"Recall (TPR)\")\n",
    "    ax.set_ylabel(\"Precision (PPV)\")\n",
    "    return ax"
   ]
  },
  {
   "cell_type": "markdown",
   "id": "amended-society",
   "metadata": {},
   "source": [
    "### Build up an ROC curve manually"
   ]
  },
  {
   "cell_type": "code",
   "execution_count": null,
   "id": "injured-worry",
   "metadata": {},
   "outputs": [],
   "source": [
    "df = df.sort_values(\"score_1\", ascending=False)\n",
    "df[\"one\"] = 1\n",
    "df[\"tpr\"] = df[\"label\"].cumsum() / df[\"label\"].sum()\n",
    "df[\"fpr\"] = (~df[\"label\"]).cumsum() / (~df[\"label\"]).sum()\n",
    "df[\"prc\"] = df[\"label\"].cumsum() / df[\"one\"].cumsum()\n",
    "df[\"rec\"] = df[\"label\"].cumsum() / df[\"label\"].sum()\n",
    "\n",
    "pos_frac = df[\"label\"].sum() / len(df)\n",
    "\n",
    "# Plot the build-up:\n",
    "fig, ax = plt.subplots(figsize=half_size)\n",
    "ax = roc_axis(ax)\n",
    "save(\"roc_buildup_blank.png\")\n",
    "\n",
    "fig, ax = plt.subplots(figsize=half_size)\n",
    "ax = pr_axis(pos_frac, ax)\n",
    "save(\"pr_buildup_blank.png\")\n",
    "\n",
    "for idx in range(8):\n",
    "    fig, ax = plt.subplots(figsize=half_size)\n",
    "    ax = roc_axis(ax)\n",
    "    sel = df.iloc[:idx, :]\n",
    "    ax.scatter([0] + list(sel[\"fpr\"]), [0] + list(sel[\"tpr\"]))\n",
    "    save(f\"roc_buildup_{idx}\")\n",
    "    \n",
    "    fig, ax = plt.subplots(figsize=half_size)\n",
    "    ax = pr_axis(pos_frac, ax)\n",
    "    ax.scatter([0] + list(sel[\"rec\"]), [1] + list(sel[\"prc\"]))\n",
    "    save(f\"pr_buildup_{idx}\")\n",
    "    \n",
    "# Final scatter plot:\n",
    "fig, ax = plt.subplots(figsize=half_size)\n",
    "ax = roc_axis(ax)\n",
    "ax.scatter([0] + list(df[\"fpr\"]), [0] + list(df[\"tpr\"]))\n",
    "save(\"roc_buildup_scatter\")\n",
    "\n",
    "fig, ax = plt.subplots(figsize=half_size)\n",
    "ax = pr_axis(pos_frac, ax)\n",
    "ax.scatter([0] + list(df[\"rec\"]), [1] + list(df[\"prc\"]))\n",
    "save(\"pr_buildup_scatter\")\n",
    "\n",
    "# Remove the points\n",
    "fig, ax = plt.subplots(figsize=half_size)\n",
    "ax = roc_axis(ax)\n",
    "ax.plot([0] + list(df[\"fpr\"]), [0] + list(df[\"tpr\"]))\n",
    "save(\"roc_score_1\")\n",
    "\n",
    "fig, ax = plt.subplots(figsize=half_size)\n",
    "ax = pr_axis(pos_frac, ax)\n",
    "ax.plot([0] + list(df[\"rec\"]), [1] + list(df[\"prc\"]))\n",
    "save(\"pr_score_1\")"
   ]
  },
  {
   "cell_type": "markdown",
   "id": "moral-improvement",
   "metadata": {},
   "source": [
    "## Plot various versions of ROC curves"
   ]
  },
  {
   "cell_type": "code",
   "execution_count": null,
   "id": "circular-marking",
   "metadata": {},
   "outputs": [],
   "source": [
    "fig, ax = plt.subplots(figsize=half_size)\n",
    "ax = roc_axis(ax)\n",
    "ax.plot(fpr_1, tpr_1)\n",
    "ax.fill_between(fpr_1, tpr_1, facecolor=pal[0], alpha=0.2)\n",
    "save(\"roc_filled\")"
   ]
  },
  {
   "cell_type": "code",
   "execution_count": null,
   "id": "occupied-bermuda",
   "metadata": {},
   "outputs": [],
   "source": [
    "fig, ax = plt.subplots(figsize=half_size)\n",
    "ax = roc_axis(ax)\n",
    "ax.plot(fpr_1, tpr_1)\n",
    "ax.plot(fpr_2, tpr_2)\n",
    "ax.fill_between(fpr_1, tpr_1, facecolor=pal[0], alpha=0.2)\n",
    "ax.fill_between(fpr_2, tpr_2, facecolor=pal[1], alpha=0.2)\n",
    "save(\"roc_both_scores.png\")"
   ]
  },
  {
   "cell_type": "code",
   "execution_count": null,
   "id": "feb9b014-1624-47e4-a747-fc29c2ff2a83",
   "metadata": {},
   "outputs": [],
   "source": [
    "fig, ax = plt.subplots(figsize=half_size)\n",
    "ax = pr_axis(pos_frac, ax)\n",
    "ax.plot([1] + list(rec_1), [pos_frac] + list(prc_1))\n",
    "ax.plot([1] + list(rec_2), [pos_frac] + list(prc_2))\n",
    "save(\"pr-curves-2\")"
   ]
  },
  {
   "cell_type": "markdown",
   "id": "searching-chicken",
   "metadata": {},
   "source": [
    "## Create an imbalanced dataset"
   ]
  },
  {
   "cell_type": "code",
   "execution_count": null,
   "id": "thick-content",
   "metadata": {},
   "outputs": [],
   "source": [
    "# Set the random seed for reproducibility:\n",
    "rng = np.random.default_rng(1)\n",
    "\n",
    "n_examples = (5, 95)\n",
    "df = pd.DataFrame({\n",
    "    \"label\": [True]*n_examples[0] + [False]*n_examples[1],\n",
    "    \"disease\": [\"Case\"]*n_examples[0] + [\"Control\"]*n_examples[1],\n",
    "    \"score_1\": np.concatenate(\n",
    "        [\n",
    "            rng.normal(5, 1, size=n_examples[0]), \n",
    "            rng.normal(3, 2, size=n_examples[1]),\n",
    "        ]\n",
    "    ),\n",
    "    \"score_2\": np.concatenate(\n",
    "        [\n",
    "            rng.normal(5, 1, size=n_examples[0]), \n",
    "            rng.normal(3, 1, size=n_examples[1]),\n",
    "        ]\n",
    "    ),\n",
    "})\n",
    "\n",
    "fpr_1, tpr_1, _ = metrics.roc_curve(df[\"label\"], df[\"score_1\"])\n",
    "fpr_2, tpr_2, _ = metrics.roc_curve(df[\"label\"], df[\"score_2\"])\n",
    "prc_1, rec_1, _ = metrics.precision_recall_curve(df[\"label\"], df[\"score_1\"])\n",
    "prc_2, rec_2, _ = metrics.precision_recall_curve(df[\"label\"], df[\"score_2\"])\n",
    "print(\"score_1 AUC:\", metrics.roc_auc_score(df[\"label\"], df[\"score_1\"]))\n",
    "print(\"score_2 AUC:\", metrics.roc_auc_score(df[\"label\"], df[\"score_2\"]))\n",
    "print(\"score_1 AP:\", metrics.average_precision_score(df[\"label\"], df[\"score_1\"]))\n",
    "print(\"score_2 AP:\", metrics.average_precision_score(df[\"label\"], df[\"score_2\"]))\n",
    "\n",
    "df = df.sort_values(\"score_1\", ascending=False).reset_index()\n",
    "df[\"tpr\"] = df[\"label\"].cumsum() / df[\"label\"].sum()\n",
    "df[\"fdr\"] = (~df[\"label\"]).cumsum() / (df.index+1)\n",
    "df.head(20)"
   ]
  },
  {
   "cell_type": "code",
   "execution_count": null,
   "id": "photographic-algeria",
   "metadata": {},
   "outputs": [],
   "source": [
    "fig, ax = plt.subplots(figsize=(5, 4))\n",
    "sns.swarmplot(x=df[\"score_1\"], y=df[\"disease\"], size=9, ax=ax)\n",
    "ax.set_xlabel(\"Protein Abundance\")\n",
    "ax.set_ylabel(\"\")\n",
    "save(\"swarm_imbalanced.png\")"
   ]
  },
  {
   "cell_type": "code",
   "execution_count": null,
   "id": "executed-single",
   "metadata": {},
   "outputs": [],
   "source": [
    "fig, ax = plt.subplots(figsize=half_size)\n",
    "ax = roc_axis(ax)\n",
    "ax.plot(fpr_1, tpr_1)\n",
    "save(\"roc_imbalance.png\")\n",
    "\n",
    "fig, ax = plt.subplots(figsize=half_size)\n",
    "ax = pr_axis((df[\"label\"] == True).sum() / len(df), ax)\n",
    "ax.plot(rec_1, prc_1)\n",
    "save(\"pr_imbalance.png\")"
   ]
  }
 ],
 "metadata": {
  "kernelspec": {
   "display_name": "Python 3 (ipykernel)",
   "language": "python",
   "name": "python3"
  },
  "language_info": {
   "codemirror_mode": {
    "name": "ipython",
    "version": 3
   },
   "file_extension": ".py",
   "mimetype": "text/x-python",
   "name": "python",
   "nbconvert_exporter": "python",
   "pygments_lexer": "ipython3",
   "version": "3.8.13"
  }
 },
 "nbformat": 4,
 "nbformat_minor": 5
}
